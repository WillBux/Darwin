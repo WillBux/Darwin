{
 "cells": [
  {
   "cell_type": "code",
   "execution_count": 145,
   "metadata": {
    "collapsed": true
   },
   "outputs": [],
   "source": [
    "import random\n",
    "from tqdm import tqdm\n",
    "from math import exp\n",
    "from math import log1p\n",
    "import numpy as np\n",
    "import pandas as pd\n",
    "from sklearn.metrics import roc_auc_score"
   ]
  },
  {
   "cell_type": "markdown",
   "metadata": {},
   "source": [
    "One instance"
   ]
  },
  {
   "cell_type": "code",
   "execution_count": 314,
   "metadata": {
    "collapsed": false
   },
   "outputs": [],
   "source": [
    "class Being():\n",
    "    \n",
    "    weights = []\n",
    "    variables = []\n",
    "    e = []\n",
    "    eW = []\n",
    "    ln = []\n",
    "    lnW = []\n",
    "    features = 0\n",
    "    pruning = 1\n",
    "    weight_sigma = 10\n",
    "    variable_power = 3\n",
    "    metric = 'acc'\n",
    "    lr = 3\n",
    "    \n",
    "    def __init__(self, features=None, variable_power=3, weight_sigma=5, lr = 1, pruning=1, parents=[], metric='acc', random = True):\n",
    "        if parents == []:\n",
    "            if features==None:\n",
    "                raise ValueError('features cannot be initialized as None')\n",
    "            self.features = features\n",
    "            self.variable_power = variable_power\n",
    "            self.weight_sigma = weight_sigma\n",
    "            self.lr = lr\n",
    "            self.pruning = pruning\n",
    "            self.variables = []\n",
    "            self.weights = []\n",
    "            self.metric = metric\n",
    "            self.e = []\n",
    "            self.ln = []\n",
    "            self.eW = []\n",
    "            self.lnW = []\n",
    "            self.setup()\n",
    "        else:\n",
    "            self.features = parents[0].features\n",
    "            self.variable_power = parents[0].variable_power\n",
    "            self.weight_sigma = parents[0].weight_sigma\n",
    "            self.lr = lr\n",
    "            self.pruning = parents[0].pruning\n",
    "            self.metric = parents[0].metric\n",
    "            self.variables = []\n",
    "            self.weights = []\n",
    "            self.e = []\n",
    "            self.ln = []\n",
    "            self.eW = []\n",
    "            self.lnW = []\n",
    "            if random:\n",
    "                self.setup()\n",
    "            else:\n",
    "                self.mutate(parents)\n",
    "    \n",
    "    def setup(self):\n",
    "        for i in range(int(self.features*self.variable_power*random.random()*2+1)):\n",
    "            temp = [random.randint(0, self.features-1)]\n",
    "            for i in range(int(self.variable_power*random.random())):\n",
    "                temp.append(random.randint(0, self.features-1))\n",
    "            self.variables.append(temp)\n",
    "        for i in range(len(self.variables)-1):\n",
    "            if random.random() > .95:\n",
    "                if random.random() > .5:\n",
    "                    self.e.append(self.variables[i])\n",
    "                else:\n",
    "                    self.ln.append(self.variables[i])\n",
    "        for i in range(len(self.variables)-1):\n",
    "            self.weights.append(random.gauss(0, self.weight_sigma))\n",
    "        for i in range(len(self.e)-1):\n",
    "            self.eW.append(random.gauss(0, self.weight_sigma))\n",
    "        for i in range(len(self.ln)-1):\n",
    "            self.lnW.append(random.gauss(0, self.weight_sigma))\n",
    "\n",
    "    \n",
    "    def mutate(self, parents):\n",
    "        for parent in parents:\n",
    "            for var, weight in zip(parent.variables, parent.weights):\n",
    "                if random.random() < self.pruning/len(parents):\n",
    "                    self.variables.append(var)\n",
    "                    self.weights.append(weight+random.gauss(0, self.lr))\n",
    "            for e, eW in zip(parent.e, parent.eW):\n",
    "                if random.random() < self.pruning/len(parents):\n",
    "                    self.e.append(e)\n",
    "                    self.eW.append(eW+random.gauss(0, self.lr))\n",
    "            for ln, lnW in zip(parent.ln, parent.lnW):\n",
    "                if random.random() < self.pruning/len(parents):\n",
    "                    self.ln.append(ln)\n",
    "                    self.lnW.append(lnW+random.gauss(0, self.lr))\n",
    "        for i in range(int(self.pruning/random.random())):\n",
    "            temp = [random.randint(0, self.features-1)]\n",
    "            for i in range(int(self.variable_power*random.random())):\n",
    "                temp.append(random.randint(0, self.features-1))\n",
    "            if random.random() > .99:\n",
    "                if random.random() > .5:\n",
    "                    self.e.append(temp)\n",
    "                    self.eW.append(random.gauss(0, self.weight_sigma))\n",
    "                else:\n",
    "                    self.ln.append(temp)\n",
    "                    self.lnW.append(random.gauss(0, self.weight_sigma))\n",
    "            self.variables.append(temp)\n",
    "            self.weights.append(random.gauss(0, self.weight_sigma)) \n",
    "            \n",
    "    \n",
    "    def predict(self, x):\n",
    "        pred = []\n",
    "        for data in x:\n",
    "            result = 0.0\n",
    "            for var, weight in zip(self.variables, self.weights):\n",
    "                mult = weight\n",
    "                for elem in var:\n",
    "                    mult *= data[elem]\n",
    "                result += mult\n",
    "            for e, eW in zip(self.e, self.eW):\n",
    "                mult = 1\n",
    "                for elem in e:\n",
    "                    mult *= data[elem]\n",
    "                try:\n",
    "                    result += eW*exp(mult) \n",
    "                except OverflowError:\n",
    "                    result += eW*exp(1/mult)\n",
    "            for ln, lnW in zip(self.ln, self.lnW):\n",
    "                mult = 1\n",
    "                for elem in ln:\n",
    "                    mult *= data[elem]\n",
    "                result += lnW*log1p(abs(mult))\n",
    "            try:\n",
    "                act = 1 / (1 + exp(-result))\n",
    "            except OverflowError: # want to kill being because numbers are too big \\\n",
    "                act = .5\n",
    "            pred.append(act)\n",
    "        return pred\n",
    "    \n",
    "    def evaluate(self, x, y, metric = ''):\n",
    "        if metric == '': \n",
    "            metric = self.metric\n",
    "        pred = self.predict(x)\n",
    "        if metric=='acc':\n",
    "            correct = 0\n",
    "            incorrect = 0\n",
    "            for y1, yp1 in zip(y, pred):\n",
    "                if (yp1 >= .5 and y1 >= .5) or (yp1 < .5 and y1 < .5):\n",
    "                    correct += 1\n",
    "                else:\n",
    "                    incorrect += 1\n",
    "            return (correct+0.0)/(correct+incorrect+0.0)   \n",
    "        elif metric=='roc':\n",
    "            pred = np.nan_to_num(pred)\n",
    "            return roc_auc_score(y, pred)\n"
   ]
  },
  {
   "cell_type": "code",
   "execution_count": 315,
   "metadata": {
    "collapsed": false
   },
   "outputs": [
    {
     "data": {
      "text/plain": [
       "[6.925778071661406e-10]"
      ]
     },
     "execution_count": 315,
     "metadata": {},
     "output_type": "execute_result"
    }
   ],
   "source": [
    "a = Being(3)\n",
    "a.predict(np.array([[1, 1, 1]]))"
   ]
  },
  {
   "cell_type": "markdown",
   "metadata": {},
   "source": [
    "Creating and Killing Instances"
   ]
  },
  {
   "cell_type": "code",
   "execution_count": 338,
   "metadata": {
    "collapsed": false
   },
   "outputs": [],
   "source": [
    "class Slaughterhouse():\n",
    "    \n",
    "    population = 0\n",
    "    random = .3\n",
    "    max_diversity = 20\n",
    "    template = None\n",
    "    decay = 1\n",
    "    lr = 1\n",
    "    beings = []\n",
    "    parents = []\n",
    "    outlast = 0.01\n",
    "    min_diversity = 4\n",
    "    being_type = None\n",
    "    \n",
    "    def __init__(self, template, population, random=0.4, max_diversity=20, decay=1, outlast=0.01, min_diversity = 4):\n",
    "        self.population = population\n",
    "        self.random = random\n",
    "        self.max_diversity = max_diversity\n",
    "        self.min_diversity = min_diversity\n",
    "        self.template = template\n",
    "        self.decay = decay\n",
    "        self.lr = template.lr\n",
    "        self.beings = []\n",
    "        self.parents = []\n",
    "        self.outlast = outlast\n",
    "        self.being_type = type(template)\n",
    "    \n",
    "    def create_generation(self):\n",
    "        for i in range(self.population):\n",
    "            self.beings.append([0, self.being_type(parents=[self.template], lr=self.lr)])\n",
    "    \n",
    "    def score_generation(self, x, y):\n",
    "        for i in tqdm(range(len(self.beings))):\n",
    "            self.beings[i][0] = self.beings[i][1].evaluate(x, y)\n",
    "        self.beings = sorted(self.beings, key=lambda x: x[0], reverse=True)\n",
    "    \n",
    "    def next_generation(self):\n",
    "        self.get_parents()\n",
    "        self.beings = []\n",
    "        for parent in self.parents:\n",
    "            self.beings.append([0, parent])\n",
    "        for i in range(self.population - len(self.parents)):\n",
    "            if random.random() > self.random:\n",
    "                self.beings.append([0, self.being_type(parents=self.parents, lr=self.lr)])\n",
    "            else:\n",
    "                if random.random() > .5:\n",
    "                    self.beings.append([0, self.being_type(parents=[self.parents[int(random.random()*len(self.parents))]], lr=self.lr)])\n",
    "                else:\n",
    "                    self.beings.append([0, self.being_type(parents=[self.template], lr=self.lr)])\n",
    "    \n",
    "    def get_parents(self):\n",
    "        self.parents = []\n",
    "        high = self.beings[0][0]\n",
    "        for i in range(self.max_diversity):\n",
    "            if high - self.outlast < self.beings[i][0] or i < self.min_diversity:\n",
    "                self.parents.append(self.beings[i][1])\n",
    "                print('Parent Acc:', self.beings[i][0])\n",
    "    \n",
    "    def go(self, x, y, generations=1):\n",
    "        if self.beings == []:\n",
    "            print('Start Generation')\n",
    "            self.create_generation()\n",
    "            self.score_generation(x, y)\n",
    "        for i in range(generations):\n",
    "            print('Generation ', i+1)\n",
    "            self.next_generation()\n",
    "            self.score_generation(x, y)\n",
    "            self.lr *= self.decay\n",
    "        self.get_parents()\n",
    "        return self.parents\n",
    "        "
   ]
  },
  {
   "cell_type": "markdown",
   "metadata": {},
   "source": [
    "Using Titanic Data"
   ]
  },
  {
   "cell_type": "code",
   "execution_count": 339,
   "metadata": {
    "collapsed": false
   },
   "outputs": [],
   "source": [
    "titanic = pd.read_csv(\"titanic_dropped.csv\")\n",
    "x = np.array(titanic.drop(['Survived'], axis=1))\n",
    "y = np.array(titanic['Survived'])"
   ]
  },
  {
   "cell_type": "code",
   "execution_count": 340,
   "metadata": {
    "collapsed": false
   },
   "outputs": [],
   "source": [
    "from sklearn.model_selection import train_test_split\n",
    "x_train, x_test, y_train, y_test = train_test_split(x, y, test_size=.2)"
   ]
  },
  {
   "cell_type": "code",
   "execution_count": 341,
   "metadata": {
    "collapsed": false
   },
   "outputs": [],
   "source": [
    "template = Being(7, lr=1, variable_power=6, weight_sigma=5, metric='roc')"
   ]
  },
  {
   "cell_type": "code",
   "execution_count": 342,
   "metadata": {
    "collapsed": false
   },
   "outputs": [],
   "source": [
    "house = Slaughterhouse(template, 1000, decay=.99)"
   ]
  },
  {
   "cell_type": "code",
   "execution_count": null,
   "metadata": {
    "collapsed": false,
    "scrolled": false
   },
   "outputs": [
    {
     "name": "stdout",
     "output_type": "stream",
     "text": [
      "Start Generation\n"
     ]
    },
    {
     "name": "stderr",
     "output_type": "stream",
     "text": [
      "  2%|▏         | 17/1000 [00:00<00:20, 48.91it/s]"
     ]
    }
   ],
   "source": [
    "final = house.go(x_train, y_train, generations=10)"
   ]
  },
  {
   "cell_type": "code",
   "execution_count": 331,
   "metadata": {
    "collapsed": false,
    "scrolled": true
   },
   "outputs": [
    {
     "data": {
      "text/plain": [
       "0.7832167832167832"
      ]
     },
     "execution_count": 331,
     "metadata": {},
     "output_type": "execute_result"
    }
   ],
   "source": [
    "final[0].evaluate(x_test, y_test, metric = 'acc')"
   ]
  },
  {
   "cell_type": "code",
   "execution_count": null,
   "metadata": {
    "collapsed": true
   },
   "outputs": [],
   "source": []
  }
 ],
 "metadata": {
  "anaconda-cloud": {},
  "kernelspec": {
   "display_name": "Python [default]",
   "language": "python",
   "name": "python3"
  },
  "language_info": {
   "codemirror_mode": {
    "name": "ipython",
    "version": 3
   },
   "file_extension": ".py",
   "mimetype": "text/x-python",
   "name": "python",
   "nbconvert_exporter": "python",
   "pygments_lexer": "ipython3",
   "version": "3.5.2"
  }
 },
 "nbformat": 4,
 "nbformat_minor": 1
}
