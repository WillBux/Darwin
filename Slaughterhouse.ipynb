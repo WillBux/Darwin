{
 "cells": [
  {
   "cell_type": "code",
   "execution_count": 133,
   "metadata": {
    "collapsed": true
   },
   "outputs": [],
   "source": [
    "import random\n",
    "from tqdm import tqdm\n",
    "from math import exp\n",
    "from math import log1p\n",
    "import numpy as np\n",
    "import pandas as pd\n",
    "from sklearn.metrics import roc_auc_score\n",
    "from sklearn.metrics import accuracy_score"
   ]
  },
  {
   "cell_type": "code",
   "execution_count": 134,
   "metadata": {
    "collapsed": true
   },
   "outputs": [],
   "source": [
    "def logloss(y_true, y_pred, eps=1e-15):\n",
    "    y_pred = np.clip(y_pred, eps, 1 - eps)\n",
    "    return -(y_true * np.log(y_pred)).sum(axis=1).mean()"
   ]
  },
  {
   "cell_type": "markdown",
   "metadata": {},
   "source": [
    "One instance"
   ]
  },
  {
   "cell_type": "code",
   "execution_count": 135,
   "metadata": {
    "collapsed": false
   },
   "outputs": [],
   "source": [
    "class Binary_Being():\n",
    "    \n",
    "    weights = []\n",
    "    variables = []\n",
    "    e = []\n",
    "    eW = []\n",
    "    ln = []\n",
    "    lnW = []\n",
    "    features = 0\n",
    "    pruning = 1\n",
    "    weight_sigma = 10\n",
    "    variable_power = 3\n",
    "    metric = 'acc'\n",
    "    lr = 3\n",
    "    \n",
    "    def __init__(self, features=None, variable_power=3, weight_sigma=5, lr = 1, pruning=1, parents=[], metric='acc', random = True):\n",
    "        if parents == []:\n",
    "            if features==None:\n",
    "                raise ValueError('features cannot be initialized as None')\n",
    "            self.features = features\n",
    "            self.variable_power = variable_power\n",
    "            self.weight_sigma = weight_sigma\n",
    "            self.lr = lr\n",
    "            self.pruning = pruning\n",
    "            self.variables = []\n",
    "            self.weights = []\n",
    "            self.metric = metric\n",
    "            self.e = []\n",
    "            self.ln = []\n",
    "            self.eW = []\n",
    "            self.lnW = []\n",
    "            self.setup()\n",
    "        else:\n",
    "            self.features = parents[0].features\n",
    "            self.variable_power = parents[0].variable_power\n",
    "            self.weight_sigma = parents[0].weight_sigma\n",
    "            self.lr = lr\n",
    "            self.pruning = parents[0].pruning\n",
    "            self.metric = parents[0].metric\n",
    "            self.variables = []\n",
    "            self.weights = []\n",
    "            self.e = []\n",
    "            self.ln = []\n",
    "            self.eW = []\n",
    "            self.lnW = []\n",
    "            if random:\n",
    "                self.setup()\n",
    "            else:\n",
    "                self.mutate(parents)\n",
    "    \n",
    "    def setup(self):\n",
    "        for i in range(int(self.features*self.variable_power*random.random()*2+1)):\n",
    "            temp = [random.randint(0, self.features-1)]\n",
    "            for j in range(int(self.variable_power*random.random())):\n",
    "                temp.append(random.randint(0, self.features-1))\n",
    "            self.variables.append(temp)\n",
    "        for i in range(len(self.variables)):\n",
    "            if random.random() > .90:\n",
    "                if random.random() > .5:\n",
    "                    self.e.append(self.variables[i])\n",
    "                else:\n",
    "                    self.ln.append(self.variables[i])\n",
    "        for i in range(len(self.variables)):\n",
    "            self.weights.append(random.gauss(0, self.weight_sigma))\n",
    "        for i in range(len(self.e)):\n",
    "            self.eW.append(random.gauss(0, self.weight_sigma))\n",
    "        for i in range(len(self.ln)):\n",
    "            self.lnW.append(random.gauss(0, self.weight_sigma))\n",
    "\n",
    "    \n",
    "    def mutate(self, parents):\n",
    "        for parent in parents:\n",
    "            for var, weight in zip(parent.variables, parent.weights):\n",
    "                if random.random() < self.pruning/len(parents):\n",
    "                    self.variables.append(var)\n",
    "                    self.weights.append(weight+random.gauss(0, self.lr))\n",
    "            for e, eW in zip(parent.e, parent.eW):\n",
    "                if random.random() < self.pruning/len(parents):\n",
    "                    self.e.append(e)\n",
    "                    self.eW.append(eW+random.gauss(0, self.lr))\n",
    "            for ln, lnW in zip(parent.ln, parent.lnW):\n",
    "                if random.random() < self.pruning/len(parents):\n",
    "                    self.ln.append(ln)\n",
    "                    self.lnW.append(lnW+random.gauss(0, self.lr))\n",
    "        for i in range(int(self.pruning/random.random())):\n",
    "            temp = [random.randint(0, self.features-1)]\n",
    "            for j in range(int(self.variable_power*random.random())):\n",
    "                temp.append(random.randint(0, self.features-1))\n",
    "            if random.random() > .95:\n",
    "                if random.random() > .5:\n",
    "                    self.e.append(temp)\n",
    "                    self.eW.append(random.gauss(0, self.weight_sigma))\n",
    "                else:\n",
    "                    self.ln.append(temp)\n",
    "                    self.lnW.append(random.gauss(0, self.weight_sigma))\n",
    "            self.variables.append(temp)\n",
    "            self.weights.append(random.gauss(0, self.weight_sigma)) \n",
    "            \n",
    "    \n",
    "    def predict(self, x):\n",
    "        pred = []\n",
    "        for data in x:\n",
    "            result = 0.0\n",
    "            for var, weight in zip(self.variables, self.weights):\n",
    "                mult = weight\n",
    "                for elem in var:\n",
    "                    mult *= data[elem]\n",
    "                result += mult\n",
    "            for e, eW in zip(self.e, self.eW):\n",
    "                mult = 1\n",
    "                for elem in e:\n",
    "                    mult *= data[elem]\n",
    "                if mult > 709:\n",
    "                    result = 709\n",
    "                result += eW*exp(mult) \n",
    "            for ln, lnW in zip(self.ln, self.lnW):\n",
    "                mult = 1\n",
    "                for elem in ln:\n",
    "                    mult *= data[elem]\n",
    "                result += lnW*log1p(abs(mult))\n",
    "            try:\n",
    "                act = 1 / (1 + exp(-result))\n",
    "            except OverflowError:\n",
    "                act = 0.0\n",
    "            pred.append(act)\n",
    "        return pred\n",
    "    \n",
    "    def evaluate(self, x, y, metric = ''):\n",
    "        if metric == '': \n",
    "            metric = self.metric\n",
    "        pred = self.predict(x)\n",
    "        if metric=='acc':\n",
    "            correct = 0\n",
    "            incorrect = 0\n",
    "            for y1, yp1 in zip(y, pred):\n",
    "                if (yp1 >= .5 and y1 >= .5) or (yp1 < .5 and y1 < .5):\n",
    "                    correct += 1\n",
    "                else:\n",
    "                    incorrect += 1\n",
    "            return (correct+0.0)/(correct+incorrect+0.0)   \n",
    "        elif metric == 'roc':\n",
    "            pred = np.nan_to_num(pred)\n",
    "            return roc_auc_score(y, pred)\n"
   ]
  },
  {
   "cell_type": "code",
   "execution_count": 136,
   "metadata": {
    "collapsed": false
   },
   "outputs": [
    {
     "data": {
      "text/plain": [
       "[0.9993710565424109]"
      ]
     },
     "execution_count": 136,
     "metadata": {},
     "output_type": "execute_result"
    }
   ],
   "source": [
    "a = Binary_Being(3)\n",
    "a.predict(np.array([[1, 1, 1]]))"
   ]
  },
  {
   "cell_type": "code",
   "execution_count": 137,
   "metadata": {
    "collapsed": false
   },
   "outputs": [],
   "source": [
    "class Categorical_Being():\n",
    "    \n",
    "    weights = []\n",
    "    variables = []\n",
    "    e = []\n",
    "    eW = []\n",
    "    ln = []\n",
    "    lnW = []\n",
    "    features = 0\n",
    "    classes = 0\n",
    "    pruning = 1\n",
    "    weight_sigma = 10\n",
    "    variable_power = 3\n",
    "    metric = 'acc'\n",
    "    lr = 3\n",
    "    \n",
    "    def __init__(self, features=None, classes=None, variable_power=3, weight_sigma=5, lr = 1, pruning=1, parents=[], metric='log_loss', random = True):\n",
    "        if parents == []:\n",
    "            if features==None:\n",
    "                raise ValueError('features cannot be initialized as None')\n",
    "            self.features = features\n",
    "            self.classes = classes\n",
    "            self.variable_power = variable_power\n",
    "            self.weight_sigma = weight_sigma\n",
    "            self.lr = lr\n",
    "            self.pruning = pruning\n",
    "            self.variables = []\n",
    "            self.weights = []\n",
    "            self.metric = metric\n",
    "            self.e = []\n",
    "            self.ln = []\n",
    "            self.eW = []\n",
    "            self.lnW = []\n",
    "            self.setup()\n",
    "        else:\n",
    "            self.features = parents[0].features\n",
    "            self.classes = parents[0].classes\n",
    "            self.variable_power = parents[0].variable_power\n",
    "            self.weight_sigma = parents[0].weight_sigma\n",
    "            self.lr = lr\n",
    "            self.pruning = parents[0].pruning\n",
    "            self.metric = parents[0].metric\n",
    "            self.variables = []\n",
    "            self.weights = []\n",
    "            self.e = []\n",
    "            self.ln = []\n",
    "            self.eW = []\n",
    "            self.lnW = []\n",
    "            if random:\n",
    "                self.setup()\n",
    "            else:\n",
    "                self.mutate(parents)\n",
    "    \n",
    "    def setup(self):\n",
    "        for j in range(self.classes):\n",
    "            cv = []\n",
    "            cvw = []\n",
    "            ce = []\n",
    "            cew = []\n",
    "            cl = []\n",
    "            clw = []\n",
    "            for i in range(int(self.features*self.variable_power*random.random()*2+1)):\n",
    "                temp = [random.randint(0, self.features-1)]\n",
    "                for j in range(int(self.variable_power*random.random())):\n",
    "                    temp.append(random.randint(0, self.features-1))\n",
    "                cv.append(temp)\n",
    "            for i in range(len(cv)):\n",
    "                if random.random() > .95:\n",
    "                    if random.random() > .5:\n",
    "                        ce.append(cv[i])\n",
    "                    else:\n",
    "                        cl.append(cv[i])\n",
    "            for i in range(len(cv)):\n",
    "                cvw.append(random.gauss(0, self.weight_sigma))\n",
    "            for i in range(len(ce)):\n",
    "                cew.append(random.gauss(0, self.weight_sigma))\n",
    "            for i in range(len(cl)):\n",
    "                clw.append(random.gauss(0, self.weight_sigma))\n",
    "            self.variables.append(cv)\n",
    "            self.weights.append(cvw)\n",
    "            self.e.append(ce)\n",
    "            self.eW.append(cew)\n",
    "            self.ln.append(cl)\n",
    "            self.lnW.append(clw)\n",
    "\n",
    "    \n",
    "    def mutate(self, parents):\n",
    "        for i in range(self.classes):\n",
    "            for parent in parents:\n",
    "                cv = []\n",
    "                cvw = []\n",
    "                ce = []\n",
    "                cew = []\n",
    "                cl = []\n",
    "                clw = []\n",
    "                for var, weight in zip(parent.variables[i], parent.weights[i]):\n",
    "                    if random.random() < self.pruning/len(parents):\n",
    "                        cv.append(var)\n",
    "                        cvw.append(weight+random.gauss(0, self.lr))\n",
    "                for e, eW in zip(parent.e[i], parent.eW[i]):\n",
    "                    if random.random() < self.pruning/len(parents):\n",
    "                        ce.append(e)\n",
    "                        cew.append(eW+random.gauss(0, self.lr))\n",
    "                for ln, lnW in zip(parent.ln[i], parent.lnW[i]):\n",
    "                    if random.random() < self.pruning/len(parents):\n",
    "                        cl.append(ln)\n",
    "                        clw.append(lnW+random.gauss(0, self.lr))\n",
    "            for j in range(int(self.pruning/random.random())):\n",
    "                temp = [random.randint(0, self.features-1)]\n",
    "                for q in range(int(self.variable_power*random.random())):\n",
    "                    temp.append(random.randint(0, self.features-1))\n",
    "                if random.random() > .99:\n",
    "                    if random.random() > .5:\n",
    "                        ce.append(temp)\n",
    "                        cew.append(random.gauss(0, self.weight_sigma))\n",
    "                    else:\n",
    "                        cl.append(temp)\n",
    "                        clw.append(random.gauss(0, self.weight_sigma))\n",
    "                cv.append(temp)\n",
    "                cvw.append(random.gauss(0, self.weight_sigma)) \n",
    "            self.variables.append(cv)\n",
    "            self.weights.append(cvw)\n",
    "            self.e.append(ce)\n",
    "            self.eW.append(cew)\n",
    "            self.ln.append(cl)\n",
    "            self.lnW.append(clw)        \n",
    "    \n",
    "    def predict(self, x):\n",
    "        pred = []\n",
    "        for data in x:\n",
    "            preAct = []\n",
    "            for c in range(self.classes):\n",
    "                result = 0.0\n",
    "                for var, weight in zip(self.variables[c], self.weights[c]):\n",
    "                    mult = weight\n",
    "                    for elem in var:\n",
    "                        mult *= data[elem]\n",
    "                    result += mult\n",
    "                for e, eW in zip(self.e[c], self.eW[c]):\n",
    "                    mult = 1\n",
    "                    for elem in e:\n",
    "                        mult *= data[elem]\n",
    "                    if mult > 709:\n",
    "                        mult = 709\n",
    "                    result += eW*exp(mult) \n",
    "                for ln, lnW in zip(self.ln[c], self.lnW[c]):\n",
    "                    mult = 1\n",
    "                    for elem in ln:\n",
    "                        mult *= data[elem]\n",
    "                    result += lnW*log1p(abs(mult))\n",
    "                if result > 709:\n",
    "                    result = 709\n",
    "                preAct.append(result)\n",
    "            preAct_exp = [exp(p) for p in preAct]\n",
    "            sum_preAct = sum(preAct_exp)\n",
    "            if sum_preAct == 0:\n",
    "                sum_preAct = 1\n",
    "            softmax = [pe/sum_preAct for pe in preAct_exp]\n",
    "            pred.append(softmax)\n",
    "        return pred\n",
    "\n",
    "    \n",
    "    def evaluate(self, x, y, metric = ''):\n",
    "        if metric == '': \n",
    "            metric = self.metric\n",
    "        pred = self.predict(x)\n",
    "        pred = np.nan_to_num(pred)\n",
    "        if metric=='log_loss':\n",
    "            return 1/logloss(y, pred)\n",
    "        elif metric=='acc':\n",
    "            y = np.array(y)\n",
    "            pred = np.array(pred)\n",
    "            correct = 0\n",
    "            incorrect = 0\n",
    "            for y1, yp1 in zip(y, pred):\n",
    "                if np.argmax(y1) == np.argmax(yp1):\n",
    "                    correct += 1\n",
    "                else:\n",
    "                    incorrect += 1\n",
    "            return (correct + 0.0)/(incorrect + correct + 0.0)\n"
   ]
  },
  {
   "cell_type": "code",
   "execution_count": 138,
   "metadata": {
    "collapsed": false
   },
   "outputs": [
    {
     "data": {
      "text/plain": [
       "1.3184902246260441"
      ]
     },
     "execution_count": 138,
     "metadata": {},
     "output_type": "execute_result"
    }
   ],
   "source": [
    "a = Categorical_Being(features=3, classes=3)\n",
    "a.evaluate(np.array([[1, 1, 1], [2, 2, 2]]), np.array([[0, 0, 1], [1, 0, 0]]))"
   ]
  },
  {
   "cell_type": "markdown",
   "metadata": {},
   "source": [
    "Creating and Killing Instances"
   ]
  },
  {
   "cell_type": "code",
   "execution_count": 139,
   "metadata": {
    "collapsed": false
   },
   "outputs": [],
   "source": [
    "class Slaughterhouse():\n",
    "    \n",
    "    population = 0\n",
    "    random = .3\n",
    "    max_diversity = 20\n",
    "    template = None\n",
    "    decay = 1\n",
    "    lr = 1\n",
    "    beings = []\n",
    "    parents = []\n",
    "    outlast = 0.01\n",
    "    min_diversity = 4\n",
    "    being_type = None\n",
    "    \n",
    "    def __init__(self, template, population = 1000, random=0.4, max_diversity=20, decay=1, outlast=0.01, min_diversity = 4):\n",
    "        self.population = population\n",
    "        self.random = random\n",
    "        self.max_diversity = max_diversity\n",
    "        self.min_diversity = min_diversity\n",
    "        self.template = template\n",
    "        self.decay = decay\n",
    "        self.lr = template.lr\n",
    "        self.beings = []\n",
    "        self.parents = []\n",
    "        self.outlast = outlast\n",
    "        self.being_type = type(template)\n",
    "    \n",
    "    def create_generation(self):\n",
    "        for i in range(self.population):\n",
    "            self.beings.append([0, self.being_type(parents=[self.template], lr=self.lr, random=True)])\n",
    "    \n",
    "    def score_generation(self, x, y):\n",
    "        for i in tqdm(range(len(self.beings))):\n",
    "            self.beings[i][0] = self.beings[i][1].evaluate(x, y)\n",
    "        self.beings = sorted(self.beings, key=lambda x: x[0], reverse=True)\n",
    "    \n",
    "    def next_generation(self):\n",
    "        self.get_parents()\n",
    "        self.beings = []\n",
    "        for parent in self.parents:\n",
    "            self.beings.append([0, parent])\n",
    "        for i in range(self.population - len(self.parents)):\n",
    "            if random.random() > self.random:\n",
    "                self.beings.append([0, self.being_type(parents=self.parents, lr=self.lr, random=False)])\n",
    "            else:\n",
    "                if random.random() > .5:\n",
    "                    self.beings.append([0, self.being_type(parents=[self.parents[int(random.random()*len(self.parents))]], lr=self.lr, random=False)])\n",
    "                else:\n",
    "                    self.beings.append([0, self.being_type(parents=[self.template], lr=self.lr, random=True)])\n",
    "    \n",
    "    def get_parents(self):\n",
    "        self.parents = []\n",
    "        high = self.beings[0][0]\n",
    "        for i in range(self.max_diversity):\n",
    "            if high - self.outlast < self.beings[i][0] or i < self.min_diversity:\n",
    "                self.parents.append(self.beings[i][1])\n",
    "                print('Parent Acc:', self.beings[i][0])\n",
    "    \n",
    "    def go(self, x, y, generations=1):\n",
    "        if self.beings == []:\n",
    "            print('Start Generation')\n",
    "            self.create_generation()\n",
    "            self.score_generation(x, y)\n",
    "        for i in range(generations):\n",
    "            print('Generation ', i+1)\n",
    "            self.next_generation()\n",
    "            self.score_generation(x, y)\n",
    "            self.lr *= self.decay\n",
    "        self.get_parents()\n",
    "        return self.parents\n",
    "        "
   ]
  },
  {
   "cell_type": "markdown",
   "metadata": {},
   "source": [
    "Using Titanic Data"
   ]
  },
  {
   "cell_type": "code",
   "execution_count": 140,
   "metadata": {
    "collapsed": false
   },
   "outputs": [],
   "source": [
    "titanic = pd.read_csv(\"titanic_dropped.csv\")\n",
    "x = np.array(titanic.drop(['Survived'], axis=1))\n",
    "y = np.array(titanic['Survived'])"
   ]
  },
  {
   "cell_type": "code",
   "execution_count": 141,
   "metadata": {
    "collapsed": false
   },
   "outputs": [],
   "source": [
    "y2 = []\n",
    "for elem in y:\n",
    "    if elem == 1:\n",
    "        y2.append([0, 1])\n",
    "    else:\n",
    "        y2.append([1, 0])\n",
    "y2 = np.array(y2)"
   ]
  },
  {
   "cell_type": "code",
   "execution_count": 142,
   "metadata": {
    "collapsed": false
   },
   "outputs": [],
   "source": [
    "from sklearn.model_selection import train_test_split\n",
    "x_train, x_test, y_train, y_test = train_test_split(x, y2, test_size=.2)"
   ]
  },
  {
   "cell_type": "code",
   "execution_count": 144,
   "metadata": {
    "collapsed": false
   },
   "outputs": [],
   "source": [
    "template = Categorical_Being(x.shape[1], classes=2, lr=1, variable_power=6, weight_sigma=5, metric='acc')"
   ]
  },
  {
   "cell_type": "code",
   "execution_count": 145,
   "metadata": {
    "collapsed": false
   },
   "outputs": [],
   "source": [
    "house = Slaughterhouse(template, population=1000, decay=.99)"
   ]
  },
  {
   "cell_type": "code",
   "execution_count": 146,
   "metadata": {
    "collapsed": false,
    "scrolled": false
   },
   "outputs": [
    {
     "name": "stdout",
     "output_type": "stream",
     "text": [
      "Start Generation\n"
     ]
    },
    {
     "name": "stderr",
     "output_type": "stream",
     "text": [
      "100%|██████████| 1000/1000 [00:44<00:00, 22.35it/s]\n"
     ]
    },
    {
     "name": "stdout",
     "output_type": "stream",
     "text": [
      "Generation  1\n",
      "Parent Acc: 0.7950963222416813\n",
      "Parent Acc: 0.7933450087565674\n",
      "Parent Acc: 0.7898423817863398\n",
      "Parent Acc: 0.7863397548161121\n"
     ]
    },
    {
     "name": "stderr",
     "output_type": "stream",
     "text": [
      "100%|██████████| 1000/1000 [00:30<00:00, 33.15it/s]\n"
     ]
    },
    {
     "name": "stdout",
     "output_type": "stream",
     "text": [
      "Generation  2\n",
      "Parent Acc: 0.8108581436077058\n",
      "Parent Acc: 0.8073555166374781\n",
      "Parent Acc: 0.8038528896672504\n",
      "Parent Acc: 0.8021015761821366\n"
     ]
    },
    {
     "name": "stderr",
     "output_type": "stream",
     "text": [
      "100%|██████████| 1000/1000 [00:27<00:00, 35.92it/s]\n"
     ]
    },
    {
     "name": "stdout",
     "output_type": "stream",
     "text": [
      "Generation  3\n",
      "Parent Acc: 0.8161120840630472\n",
      "Parent Acc: 0.8143607705779334\n",
      "Parent Acc: 0.8143607705779334\n",
      "Parent Acc: 0.8143607705779334\n",
      "Parent Acc: 0.8126094570928196\n",
      "Parent Acc: 0.8126094570928196\n",
      "Parent Acc: 0.8126094570928196\n",
      "Parent Acc: 0.8126094570928196\n",
      "Parent Acc: 0.8108581436077058\n",
      "Parent Acc: 0.8108581436077058\n",
      "Parent Acc: 0.8108581436077058\n",
      "Parent Acc: 0.809106830122592\n",
      "Parent Acc: 0.809106830122592\n",
      "Parent Acc: 0.809106830122592\n",
      "Parent Acc: 0.809106830122592\n",
      "Parent Acc: 0.809106830122592\n",
      "Parent Acc: 0.809106830122592\n",
      "Parent Acc: 0.8073555166374781\n",
      "Parent Acc: 0.8073555166374781\n",
      "Parent Acc: 0.8073555166374781\n"
     ]
    },
    {
     "name": "stderr",
     "output_type": "stream",
     "text": [
      "100%|██████████| 1000/1000 [00:22<00:00, 43.65it/s]\n"
     ]
    },
    {
     "name": "stdout",
     "output_type": "stream",
     "text": [
      "Generation  4\n",
      "Parent Acc: 0.8213660245183888\n",
      "Parent Acc: 0.8161120840630472\n",
      "Parent Acc: 0.8161120840630472\n",
      "Parent Acc: 0.8161120840630472\n",
      "Parent Acc: 0.8161120840630472\n",
      "Parent Acc: 0.8161120840630472\n",
      "Parent Acc: 0.8161120840630472\n",
      "Parent Acc: 0.8161120840630472\n",
      "Parent Acc: 0.8143607705779334\n",
      "Parent Acc: 0.8143607705779334\n",
      "Parent Acc: 0.8143607705779334\n",
      "Parent Acc: 0.8143607705779334\n",
      "Parent Acc: 0.8143607705779334\n",
      "Parent Acc: 0.8143607705779334\n",
      "Parent Acc: 0.8143607705779334\n",
      "Parent Acc: 0.8143607705779334\n",
      "Parent Acc: 0.8143607705779334\n",
      "Parent Acc: 0.8143607705779334\n",
      "Parent Acc: 0.8126094570928196\n",
      "Parent Acc: 0.8126094570928196\n"
     ]
    },
    {
     "name": "stderr",
     "output_type": "stream",
     "text": [
      "100%|██████████| 1000/1000 [00:21<00:00, 45.60it/s]\n"
     ]
    },
    {
     "name": "stdout",
     "output_type": "stream",
     "text": [
      "Generation  5\n",
      "Parent Acc: 0.8231173380035026\n",
      "Parent Acc: 0.8213660245183888\n",
      "Parent Acc: 0.8213660245183888\n",
      "Parent Acc: 0.819614711033275\n",
      "Parent Acc: 0.8178633975481612\n",
      "Parent Acc: 0.8178633975481612\n",
      "Parent Acc: 0.8178633975481612\n",
      "Parent Acc: 0.8178633975481612\n",
      "Parent Acc: 0.8178633975481612\n",
      "Parent Acc: 0.8178633975481612\n",
      "Parent Acc: 0.8178633975481612\n",
      "Parent Acc: 0.8178633975481612\n",
      "Parent Acc: 0.8178633975481612\n",
      "Parent Acc: 0.8161120840630472\n",
      "Parent Acc: 0.8161120840630472\n",
      "Parent Acc: 0.8161120840630472\n",
      "Parent Acc: 0.8161120840630472\n",
      "Parent Acc: 0.8161120840630472\n",
      "Parent Acc: 0.8161120840630472\n",
      "Parent Acc: 0.8161120840630472\n"
     ]
    },
    {
     "name": "stderr",
     "output_type": "stream",
     "text": [
      "100%|██████████| 1000/1000 [00:22<00:00, 44.79it/s]\n"
     ]
    },
    {
     "name": "stdout",
     "output_type": "stream",
     "text": [
      "Generation  6\n",
      "Parent Acc: 0.8248686514886164\n",
      "Parent Acc: 0.8231173380035026\n",
      "Parent Acc: 0.8231173380035026\n",
      "Parent Acc: 0.8231173380035026\n",
      "Parent Acc: 0.8213660245183888\n",
      "Parent Acc: 0.8213660245183888\n",
      "Parent Acc: 0.8213660245183888\n",
      "Parent Acc: 0.8213660245183888\n",
      "Parent Acc: 0.8213660245183888\n",
      "Parent Acc: 0.8213660245183888\n",
      "Parent Acc: 0.8213660245183888\n",
      "Parent Acc: 0.8213660245183888\n",
      "Parent Acc: 0.819614711033275\n",
      "Parent Acc: 0.819614711033275\n",
      "Parent Acc: 0.819614711033275\n",
      "Parent Acc: 0.819614711033275\n",
      "Parent Acc: 0.819614711033275\n",
      "Parent Acc: 0.819614711033275\n",
      "Parent Acc: 0.819614711033275\n",
      "Parent Acc: 0.819614711033275\n"
     ]
    },
    {
     "name": "stderr",
     "output_type": "stream",
     "text": [
      "100%|██████████| 1000/1000 [00:24<00:00, 41.58it/s]\n"
     ]
    },
    {
     "name": "stdout",
     "output_type": "stream",
     "text": [
      "Generation  7\n",
      "Parent Acc: 0.8266199649737302\n",
      "Parent Acc: 0.8266199649737302\n",
      "Parent Acc: 0.8248686514886164\n",
      "Parent Acc: 0.8231173380035026\n",
      "Parent Acc: 0.8231173380035026\n",
      "Parent Acc: 0.8231173380035026\n",
      "Parent Acc: 0.8231173380035026\n",
      "Parent Acc: 0.8231173380035026\n",
      "Parent Acc: 0.8231173380035026\n",
      "Parent Acc: 0.8231173380035026\n",
      "Parent Acc: 0.8231173380035026\n",
      "Parent Acc: 0.8231173380035026\n",
      "Parent Acc: 0.8213660245183888\n",
      "Parent Acc: 0.8213660245183888\n",
      "Parent Acc: 0.8213660245183888\n",
      "Parent Acc: 0.8213660245183888\n",
      "Parent Acc: 0.8213660245183888\n",
      "Parent Acc: 0.8213660245183888\n",
      "Parent Acc: 0.8213660245183888\n",
      "Parent Acc: 0.8213660245183888\n"
     ]
    },
    {
     "name": "stderr",
     "output_type": "stream",
     "text": [
      "100%|██████████| 1000/1000 [00:22<00:00, 44.81it/s]\n"
     ]
    },
    {
     "name": "stdout",
     "output_type": "stream",
     "text": [
      "Generation  8\n",
      "Parent Acc: 0.8283712784588442\n",
      "Parent Acc: 0.8266199649737302\n",
      "Parent Acc: 0.8266199649737302\n",
      "Parent Acc: 0.8248686514886164\n",
      "Parent Acc: 0.8248686514886164\n",
      "Parent Acc: 0.8231173380035026\n",
      "Parent Acc: 0.8231173380035026\n",
      "Parent Acc: 0.8231173380035026\n",
      "Parent Acc: 0.8231173380035026\n",
      "Parent Acc: 0.8231173380035026\n",
      "Parent Acc: 0.8231173380035026\n",
      "Parent Acc: 0.8231173380035026\n",
      "Parent Acc: 0.8231173380035026\n",
      "Parent Acc: 0.8231173380035026\n",
      "Parent Acc: 0.8231173380035026\n",
      "Parent Acc: 0.8231173380035026\n",
      "Parent Acc: 0.8231173380035026\n",
      "Parent Acc: 0.8231173380035026\n",
      "Parent Acc: 0.8231173380035026\n",
      "Parent Acc: 0.8213660245183888\n"
     ]
    },
    {
     "name": "stderr",
     "output_type": "stream",
     "text": [
      "100%|██████████| 1000/1000 [01:09<00:00, 14.48it/s]\n"
     ]
    },
    {
     "name": "stdout",
     "output_type": "stream",
     "text": [
      "Generation  9\n",
      "Parent Acc: 0.8283712784588442\n",
      "Parent Acc: 0.8266199649737302\n",
      "Parent Acc: 0.8266199649737302\n",
      "Parent Acc: 0.8266199649737302\n",
      "Parent Acc: 0.8248686514886164\n",
      "Parent Acc: 0.8248686514886164\n",
      "Parent Acc: 0.8248686514886164\n",
      "Parent Acc: 0.8248686514886164\n",
      "Parent Acc: 0.8248686514886164\n",
      "Parent Acc: 0.8248686514886164\n",
      "Parent Acc: 0.8248686514886164\n",
      "Parent Acc: 0.8248686514886164\n",
      "Parent Acc: 0.8231173380035026\n",
      "Parent Acc: 0.8231173380035026\n",
      "Parent Acc: 0.8231173380035026\n",
      "Parent Acc: 0.8231173380035026\n",
      "Parent Acc: 0.8231173380035026\n",
      "Parent Acc: 0.8231173380035026\n",
      "Parent Acc: 0.8231173380035026\n",
      "Parent Acc: 0.8231173380035026\n"
     ]
    },
    {
     "name": "stderr",
     "output_type": "stream",
     "text": [
      "100%|██████████| 1000/1000 [00:23<00:00, 42.49it/s]\n"
     ]
    },
    {
     "name": "stdout",
     "output_type": "stream",
     "text": [
      "Generation  10\n",
      "Parent Acc: 0.8283712784588442\n",
      "Parent Acc: 0.8266199649737302\n",
      "Parent Acc: 0.8266199649737302\n",
      "Parent Acc: 0.8266199649737302\n",
      "Parent Acc: 0.8266199649737302\n",
      "Parent Acc: 0.8266199649737302\n",
      "Parent Acc: 0.8266199649737302\n",
      "Parent Acc: 0.8248686514886164\n",
      "Parent Acc: 0.8248686514886164\n",
      "Parent Acc: 0.8248686514886164\n",
      "Parent Acc: 0.8248686514886164\n",
      "Parent Acc: 0.8248686514886164\n",
      "Parent Acc: 0.8248686514886164\n",
      "Parent Acc: 0.8248686514886164\n",
      "Parent Acc: 0.8248686514886164\n",
      "Parent Acc: 0.8248686514886164\n",
      "Parent Acc: 0.8248686514886164\n",
      "Parent Acc: 0.8248686514886164\n",
      "Parent Acc: 0.8248686514886164\n",
      "Parent Acc: 0.8248686514886164\n"
     ]
    },
    {
     "name": "stderr",
     "output_type": "stream",
     "text": [
      "100%|██████████| 1000/1000 [00:25<00:00, 39.98it/s]"
     ]
    },
    {
     "name": "stdout",
     "output_type": "stream",
     "text": [
      "Parent Acc: 0.830122591943958\n",
      "Parent Acc: 0.8283712784588442\n",
      "Parent Acc: 0.8283712784588442\n",
      "Parent Acc: 0.8266199649737302\n",
      "Parent Acc: 0.8266199649737302\n",
      "Parent Acc: 0.8266199649737302\n",
      "Parent Acc: 0.8266199649737302\n",
      "Parent Acc: 0.8266199649737302\n",
      "Parent Acc: 0.8266199649737302\n",
      "Parent Acc: 0.8266199649737302\n",
      "Parent Acc: 0.8266199649737302\n",
      "Parent Acc: 0.8266199649737302\n",
      "Parent Acc: 0.8266199649737302\n",
      "Parent Acc: 0.8248686514886164\n",
      "Parent Acc: 0.8248686514886164\n",
      "Parent Acc: 0.8248686514886164\n",
      "Parent Acc: 0.8248686514886164\n",
      "Parent Acc: 0.8248686514886164\n",
      "Parent Acc: 0.8248686514886164\n",
      "Parent Acc: 0.8248686514886164\n"
     ]
    },
    {
     "name": "stderr",
     "output_type": "stream",
     "text": [
      "\n"
     ]
    }
   ],
   "source": [
    "final = house.go(x_train, y_train, generations=10)"
   ]
  },
  {
   "cell_type": "code",
   "execution_count": 152,
   "metadata": {
    "collapsed": false,
    "scrolled": true
   },
   "outputs": [
    {
     "data": {
      "text/plain": [
       "0.7272727272727273"
      ]
     },
     "execution_count": 152,
     "metadata": {},
     "output_type": "execute_result"
    }
   ],
   "source": [
    "final[0].evaluate(x_test, y_test, metric = 'acc')"
   ]
  },
  {
   "cell_type": "code",
   "execution_count": 150,
   "metadata": {
    "collapsed": false
   },
   "outputs": [
    {
     "data": {
      "text/plain": [
       "([[[5, 6, 6],\n",
       "   [5, 2],\n",
       "   [0, 6, 0, 0, 6, 1],\n",
       "   [4, 4],\n",
       "   [3, 3, 5],\n",
       "   [0, 4, 3, 0, 5],\n",
       "   [1, 6, 2, 2],\n",
       "   [1, 0, 6, 6, 1],\n",
       "   [6, 3, 6, 3, 3, 5],\n",
       "   [2, 0, 0, 1, 2, 2],\n",
       "   [1],\n",
       "   [4, 3, 2],\n",
       "   [5, 6, 5, 6, 6],\n",
       "   [2, 6, 4],\n",
       "   [4, 1, 6, 1, 3],\n",
       "   [4, 1, 6, 6],\n",
       "   [4, 0],\n",
       "   [2, 3],\n",
       "   [1, 0, 2, 2, 2, 0],\n",
       "   [5],\n",
       "   [2, 2, 5],\n",
       "   [2, 6, 1, 2, 3, 0],\n",
       "   [6, 1],\n",
       "   [5, 1, 6, 2],\n",
       "   [4, 3, 2, 5],\n",
       "   [3, 6, 5],\n",
       "   [2, 6]],\n",
       "  [[0, 2, 1, 1, 5, 6],\n",
       "   [4, 4, 0, 1, 1, 5],\n",
       "   [0],\n",
       "   [5, 2],\n",
       "   [1, 0, 4],\n",
       "   [6],\n",
       "   [2, 3, 4, 6, 5],\n",
       "   [4, 1, 5, 3],\n",
       "   [1, 6, 6, 0, 0, 2],\n",
       "   [5, 4],\n",
       "   [4, 6, 0, 6, 1],\n",
       "   [0, 3, 1, 1, 3, 1],\n",
       "   [2],\n",
       "   [6, 0],\n",
       "   [2, 6],\n",
       "   [0, 0, 4, 4, 6, 6],\n",
       "   [2, 1],\n",
       "   [3, 2, 2],\n",
       "   [6, 2, 5, 6, 3, 2],\n",
       "   [4, 5],\n",
       "   [3, 4],\n",
       "   [1],\n",
       "   [0, 4, 2, 5],\n",
       "   [4, 0, 3],\n",
       "   [2, 1, 6, 3, 5, 6],\n",
       "   [3, 2, 2, 6, 1, 0],\n",
       "   [2, 3, 5, 3, 3, 0],\n",
       "   [1],\n",
       "   [5, 2, 2, 0],\n",
       "   [2, 6, 3, 1, 6],\n",
       "   [3, 1, 2, 6, 2]]],\n",
       " [[-0.30748032128434966,\n",
       "   -9.474330938589093,\n",
       "   5.77824651649879,\n",
       "   -2.7639901044464295,\n",
       "   1.6766796769612162,\n",
       "   3.236806143822813,\n",
       "   9.225891142380046,\n",
       "   1.4264365973570983,\n",
       "   -7.1285552763865425,\n",
       "   6.765501532989652,\n",
       "   -4.133352845075787,\n",
       "   -8.129176814578788,\n",
       "   -1.3228984242620767,\n",
       "   6.31643106331585,\n",
       "   2.782608460949936,\n",
       "   0.7164394214458673,\n",
       "   -8.044408486125525,\n",
       "   -2.349772882170827,\n",
       "   10.508530362128653,\n",
       "   -4.033576259327486,\n",
       "   -1.2067555799920804,\n",
       "   -2.9093080202383477,\n",
       "   6.225116258054457,\n",
       "   6.27580231566182,\n",
       "   -9.193224315827381,\n",
       "   6.341343707084596,\n",
       "   5.922615724506368],\n",
       "  [-2.795512677435466,\n",
       "   14.734190347728552,\n",
       "   10.33663404391956,\n",
       "   9.145106273255964,\n",
       "   -6.824844829390484,\n",
       "   6.455721939561863,\n",
       "   -10.134063667435226,\n",
       "   -6.810310151695543,\n",
       "   0.8115718238458431,\n",
       "   4.544545368436308,\n",
       "   -1.3376371083924192,\n",
       "   -10.495484606526293,\n",
       "   11.105072345256826,\n",
       "   0.20846291345190182,\n",
       "   -1.8140449131268095,\n",
       "   15.436716046007527,\n",
       "   6.569691220332125,\n",
       "   0.620640749491592,\n",
       "   3.048317527101609,\n",
       "   9.508314065892854,\n",
       "   1.8276175816466367,\n",
       "   -1.266521737557619,\n",
       "   -0.5921150383723851,\n",
       "   4.294488455275022,\n",
       "   -4.962443278625266,\n",
       "   -4.326608353210252,\n",
       "   -10.656914538959192,\n",
       "   -1.2824651856599885,\n",
       "   5.713710559787718,\n",
       "   13.078105631229791,\n",
       "   -2.3612479196103147]],\n",
       " [[], []],\n",
       " [[], []],\n",
       " [[], []],\n",
       " [[], []])"
      ]
     },
     "execution_count": 150,
     "metadata": {},
     "output_type": "execute_result"
    }
   ],
   "source": [
    "final[0].variables, final[0].weights, final[0].e, final[0].eW, final[0].ln, final[0].lnW"
   ]
  },
  {
   "cell_type": "code",
   "execution_count": null,
   "metadata": {
    "collapsed": true
   },
   "outputs": [],
   "source": []
  }
 ],
 "metadata": {
  "anaconda-cloud": {},
  "kernelspec": {
   "display_name": "Python [default]",
   "language": "python",
   "name": "python3"
  },
  "language_info": {
   "codemirror_mode": {
    "name": "ipython",
    "version": 3
   },
   "file_extension": ".py",
   "mimetype": "text/x-python",
   "name": "python",
   "nbconvert_exporter": "python",
   "pygments_lexer": "ipython3",
   "version": "3.5.2"
  }
 },
 "nbformat": 4,
 "nbformat_minor": 1
}
