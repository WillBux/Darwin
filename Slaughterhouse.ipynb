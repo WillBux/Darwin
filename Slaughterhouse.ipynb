{
 "cells": [
  {
   "cell_type": "code",
   "execution_count": 72,
   "metadata": {
    "collapsed": true
   },
   "outputs": [],
   "source": [
    "import random\n",
    "from tqdm import tqdm\n",
    "from math import exp\n",
    "from math import log1p\n",
    "import numpy as np\n",
    "import pandas as pd"
   ]
  },
  {
   "cell_type": "markdown",
   "metadata": {},
   "source": [
    "One instance"
   ]
  },
  {
   "cell_type": "code",
   "execution_count": 106,
   "metadata": {
    "collapsed": false
   },
   "outputs": [],
   "source": [
    "class Being():\n",
    "    \n",
    "    weights = []\n",
    "    variables = []\n",
    "    e = []\n",
    "    eW = []\n",
    "    ln = []\n",
    "    lnW = []\n",
    "    features = 0\n",
    "    pruning = 1\n",
    "    weight_sigma = 20\n",
    "    variable_power = 3\n",
    "    lr = 3\n",
    "    \n",
    "    def __init__(self, features, variable_power=3, weight_sigma=20, lr = 3, pruning=1, parents=[]):\n",
    "        if parents == []:\n",
    "            self.features = features\n",
    "            self.variable_power = variable_power\n",
    "            self.weight_sigma = weight_sigma\n",
    "            self.lr = lr\n",
    "            self.pruning = pruning\n",
    "            self.variables = []\n",
    "            self.weights = []\n",
    "            self.e = []\n",
    "            self.ln = []\n",
    "            self.eW = []\n",
    "            self.lnW = []\n",
    "            self.setup()\n",
    "        else:\n",
    "            self.features = parents[0].features\n",
    "            self.variable_power = parents[0].variable_power\n",
    "            self.weight_sigma = parents[0].weight_sigma\n",
    "            self.lr = lr\n",
    "            self.pruning = parents[0].pruning\n",
    "            self.variables = []\n",
    "            self.weights = []\n",
    "            self.e = []\n",
    "            self.ln = []\n",
    "            self.eW = []\n",
    "            self.lnW = []\n",
    "            self.mutate(parents)\n",
    "    \n",
    "    def setup(self):\n",
    "        for i in range(int(self.features*self.variable_power*random.random()*2+1)):\n",
    "            temp = [random.randint(0, self.features-1)]\n",
    "            for i in range(int(self.variable_power*random.random())):\n",
    "                temp.append(random.randint(0, self.features-1))\n",
    "            self.variables.append(temp)\n",
    "        for i in range(len(self.variables)-1):\n",
    "            if random.random() > .95:\n",
    "                if random.random() > .5:\n",
    "                    self.e.append(self.variables[i])\n",
    "                else:\n",
    "                    self.ln.append(self.variables[i])\n",
    "        for i in range(len(self.variables)-1):\n",
    "            self.weights.append(random.gauss(0, self.weight_sigma))\n",
    "        for i in range(len(self.e)-1):\n",
    "            self.eW.append(random.gauss(0, self.weight_sigma))\n",
    "        for i in range(len(self.ln)-1):\n",
    "            self.lnW.append(random.gauss(0, self.weight_sigma))\n",
    "\n",
    "    \n",
    "    def mutate(self, parents):\n",
    "        for parent in parents:\n",
    "            for var, weight in zip(parent.variables, parent.weights):\n",
    "                if random.random() < self.pruning/len(parents):\n",
    "                    self.variables.append(var)\n",
    "                    self.weights.append(weight+random.gauss(0, self.lr))\n",
    "            for e, eW in zip(parent.e, parent.eW):\n",
    "                if random.random() < self.pruning/len(parents):\n",
    "                    self.e.append(e)\n",
    "                    self.eW.append(eW+random.gauss(0, self.lr))\n",
    "            for ln, lnW in zip(parent.ln, parent.lnW):\n",
    "                if random.random() < self.pruning/len(parents):\n",
    "                    self.ln.append(ln)\n",
    "                    self.lnW.append(lnW+random.gauss(0, self.lr))\n",
    "        for i in range(int(self.pruning/random.random())):\n",
    "            temp = [random.randint(0, self.features-1)]\n",
    "            for i in range(int(self.variable_power*random.random())):\n",
    "                temp.append(random.randint(0, self.features-1))\n",
    "            if random.random() > .99:\n",
    "                if random.random() > .5:\n",
    "                    self.e.append(temp)\n",
    "                    self.eW.append(random.gauss(0, self.weight_sigma))\n",
    "                else:\n",
    "                    self.ln.append(temp)\n",
    "                    self.lnW.append(random.gauss(0, self.weight_sigma))\n",
    "            self.variables.append(temp)\n",
    "            self.weights.append(random.gauss(0, self.weight_sigma)) \n",
    "            \n",
    "    \n",
    "    def predict(self, x):\n",
    "        pred = []\n",
    "        for data in x:\n",
    "            result = 0.0\n",
    "            for var, weight in zip(self.variables, self.weights):\n",
    "                mult = weight\n",
    "                for elem in var:\n",
    "                    mult *= data[elem]\n",
    "                result += mult\n",
    "            for e, eW in zip(self.e, self.eW):\n",
    "                mult = 1\n",
    "                for elem in e:\n",
    "                    mult *= data[elem]\n",
    "                try:\n",
    "                    result += eW*exp(mult)\n",
    "                except:\n",
    "                    result += eW*exp(1/mult)\n",
    "            for ln, lnW in zip(self.ln, self.lnW):\n",
    "                mult = 1\n",
    "                for elem in ln:\n",
    "                    mult *= data[elem]\n",
    "                result += lnW*log1p(abs(mult))\n",
    "            pred.append(result)\n",
    "        return pred\n",
    "    \n",
    "    def evaluate(self, x, y):\n",
    "        pred = self.predict(x)\n",
    "        correct = 0\n",
    "        incorrect = 0\n",
    "        for y1, yp1 in zip(y, pred):\n",
    "            if (yp1 >= 0 and y1 >= .5) or (yp1 < 0 and y1 < .5):\n",
    "                correct += 1\n",
    "            else:\n",
    "                incorrect += 1\n",
    "        return (correct+0.0)/(correct+incorrect+0.0)                \n",
    "        "
   ]
  },
  {
   "cell_type": "code",
   "execution_count": 107,
   "metadata": {
    "collapsed": false
   },
   "outputs": [
    {
     "data": {
      "text/plain": [
       "[-54.271597896715285]"
      ]
     },
     "execution_count": 107,
     "metadata": {},
     "output_type": "execute_result"
    }
   ],
   "source": [
    "a = Being(3)\n",
    "a.predict(np.array([[1, 1, 1]]))"
   ]
  },
  {
   "cell_type": "markdown",
   "metadata": {},
   "source": [
    "Creating and Killing Instances"
   ]
  },
  {
   "cell_type": "code",
   "execution_count": 108,
   "metadata": {
    "collapsed": false
   },
   "outputs": [],
   "source": [
    "class Slaughterhouse():\n",
    "    \n",
    "    population = 0\n",
    "    random = .3\n",
    "    top = 20\n",
    "    being = 0\n",
    "    decay = 1\n",
    "    lr = 0.001\n",
    "    beings = []\n",
    "    parents = []\n",
    "    outlast = 0.01\n",
    "    \n",
    "    def __init__(self, being, population, random=0.4, top=20, decay=1, outlast=0.01):\n",
    "        self.population = population\n",
    "        self.random = random\n",
    "        self.top = top\n",
    "        self.being = being\n",
    "        self.decay = decay\n",
    "        self.lr = being.lr\n",
    "        self.beings = []\n",
    "        self.parents = []\n",
    "        self.outlast = outlast\n",
    "    \n",
    "    def create_generation(self):\n",
    "        for i in range(self.population):\n",
    "            self.beings.append([0, Being(self.being.features, variable_power=self.being.variable_power, weight_sigma=self.being.weight_sigma, lr=self.being.lr, pruning=self.being.pruning)])\n",
    "    \n",
    "    def score_generation(self, x, y):\n",
    "        for i in tqdm(range(len(self.beings))):\n",
    "            self.beings[i][0] = self.beings[i][1].evaluate(x, y)\n",
    "        self.beings = sorted(self.beings, key=lambda x: x[0], reverse=True)\n",
    "    \n",
    "    def next_generation(self):\n",
    "        self.get_parents()\n",
    "        self.beings = []\n",
    "        for i in range(self.population):\n",
    "            if random.random() > self.random:\n",
    "                self.beings.append([0, Being(self.being.features, parents=self.parents, lr=self.lr/self.decay)])\n",
    "            else:\n",
    "                if random.random() > .5:\n",
    "                    self.beings.append([0, Being(self.being.features, parents=[self.parents[int(random.random()*len(self.parents))]], lr=self.lr/self.decay)])\n",
    "                else:\n",
    "                    self.beings.append([0, Being(self.being.features, variable_power=self.being.variable_power, weight_sigma=self.being.weight_sigma, lr=self.being.lr, pruning=self.being.pruning)])\n",
    "    \n",
    "    def get_parents(self):\n",
    "        self.parents = []\n",
    "        high = self.beings[0][0]\n",
    "        for i in range(self.top):\n",
    "            if high - self.outlast < self.beings[i][0]:\n",
    "                self.parents.append(self.beings[i][1])\n",
    "                print('Parent Acc:', self.beings[i][0])\n",
    "    \n",
    "    def go(self, x, y, generations=1, init=True):\n",
    "        if init:\n",
    "            print('Start Generation')\n",
    "            self.create_generation()\n",
    "            self.score_generation(x, y)\n",
    "        for i in range(generations):\n",
    "            print('Generation ', i+1)\n",
    "            self.next_generation()\n",
    "            self.score_generation(x, y)\n",
    "        self.get_parents()\n",
    "        return self.parents\n",
    "        "
   ]
  },
  {
   "cell_type": "markdown",
   "metadata": {},
   "source": [
    "Using Titanic Data"
   ]
  },
  {
   "cell_type": "code",
   "execution_count": 109,
   "metadata": {
    "collapsed": false
   },
   "outputs": [],
   "source": [
    "titanic = pd.read_csv(\"titanic_dropped.csv\")\n",
    "x = np.array(titanic.drop(['Survived'], axis=1))\n",
    "y = np.array(titanic['Survived'])"
   ]
  },
  {
   "cell_type": "code",
   "execution_count": 110,
   "metadata": {
    "collapsed": false
   },
   "outputs": [],
   "source": [
    "from sklearn.model_selection import train_test_split\n",
    "x_train, x_test, y_train, y_test = train_test_split(x, y, test_size=.2)"
   ]
  },
  {
   "cell_type": "code",
   "execution_count": 111,
   "metadata": {
    "collapsed": false
   },
   "outputs": [],
   "source": [
    "template = Being(7, lr=5, variable_power=6, weight_sigma=20)"
   ]
  },
  {
   "cell_type": "code",
   "execution_count": 112,
   "metadata": {
    "collapsed": false
   },
   "outputs": [],
   "source": [
    "house = Slaughterhouse(template, 1000, decay=.95)"
   ]
  },
  {
   "cell_type": "code",
   "execution_count": 113,
   "metadata": {
    "collapsed": false,
    "scrolled": false
   },
   "outputs": [
    {
     "name": "stdout",
     "output_type": "stream",
     "text": [
      "Start Generation\n"
     ]
    },
    {
     "name": "stderr",
     "output_type": "stream",
     "text": [
      "100%|██████████| 1000/1000 [00:20<00:00, 49.88it/s]\n",
      "  0%|          | 0/1000 [00:00<?, ?it/s]"
     ]
    },
    {
     "name": "stdout",
     "output_type": "stream",
     "text": [
      "Generation  1\n",
      "Parent Acc: 0.7950963222416813\n",
      "Parent Acc: 0.7915936952714536\n",
      "Parent Acc: 0.7898423817863398\n",
      "Parent Acc: 0.7898423817863398\n",
      "Parent Acc: 0.7880910683012259\n",
      "Parent Acc: 0.7880910683012259\n"
     ]
    },
    {
     "name": "stderr",
     "output_type": "stream",
     "text": [
      "100%|██████████| 1000/1000 [00:26<00:00, 37.15it/s]\n"
     ]
    },
    {
     "name": "stdout",
     "output_type": "stream",
     "text": [
      "Generation  2\n",
      "Parent Acc: 0.8108581436077058\n",
      "Parent Acc: 0.809106830122592\n",
      "Parent Acc: 0.8073555166374781\n",
      "Parent Acc: 0.8073555166374781\n",
      "Parent Acc: 0.8056042031523643\n",
      "Parent Acc: 0.8056042031523643\n",
      "Parent Acc: 0.8038528896672504\n",
      "Parent Acc: 0.8038528896672504\n",
      "Parent Acc: 0.8038528896672504\n",
      "Parent Acc: 0.8021015761821366\n",
      "Parent Acc: 0.8021015761821366\n",
      "Parent Acc: 0.8021015761821366\n",
      "Parent Acc: 0.8021015761821366\n"
     ]
    },
    {
     "name": "stderr",
     "output_type": "stream",
     "text": [
      "100%|██████████| 1000/1000 [00:28<00:00, 35.20it/s]\n"
     ]
    },
    {
     "name": "stdout",
     "output_type": "stream",
     "text": [
      "Generation  3\n",
      "Parent Acc: 0.8248686514886164\n",
      "Parent Acc: 0.8178633975481612\n",
      "Parent Acc: 0.8178633975481612\n",
      "Parent Acc: 0.8161120840630472\n"
     ]
    },
    {
     "name": "stderr",
     "output_type": "stream",
     "text": [
      "100%|██████████| 1000/1000 [00:41<00:00, 23.92it/s]"
     ]
    },
    {
     "name": "stdout",
     "output_type": "stream",
     "text": [
      "Parent Acc: 0.8336252189141856\n",
      "Parent Acc: 0.830122591943958\n",
      "Parent Acc: 0.8283712784588442\n",
      "Parent Acc: 0.8283712784588442\n",
      "Parent Acc: 0.8283712784588442\n",
      "Parent Acc: 0.8266199649737302\n",
      "Parent Acc: 0.8266199649737302\n",
      "Parent Acc: 0.8266199649737302\n",
      "Parent Acc: 0.8248686514886164\n",
      "Parent Acc: 0.8248686514886164\n",
      "Parent Acc: 0.8248686514886164\n",
      "Parent Acc: 0.8248686514886164\n",
      "Parent Acc: 0.8248686514886164\n"
     ]
    },
    {
     "name": "stderr",
     "output_type": "stream",
     "text": [
      "\n"
     ]
    }
   ],
   "source": [
    "final = house.go(x_train, y_train, generations=3)"
   ]
  },
  {
   "cell_type": "code",
   "execution_count": 114,
   "metadata": {
    "collapsed": false
   },
   "outputs": [
    {
     "data": {
      "text/plain": [
       "[-676253.12540654768,\n",
       " 72726.930084550622,\n",
       " -2399556.0242570997,\n",
       " 4331049.8398739416,\n",
       " -4756093.2152004475,\n",
       " 539612.11792611098,\n",
       " -21239624.890262194,\n",
       " -1857719.5429636659,\n",
       " -4208133.7337791398,\n",
       " 180130.52665807321,\n",
       " 37469804.664364792,\n",
       " -670511.81435965875,\n",
       " 1781482.5243680736,\n",
       " 876895.58371750696,\n",
       " -6014089.4008604996,\n",
       " -9282059.4291629307,\n",
       " 720716.41058997414,\n",
       " -39493011.789943188,\n",
       " 158546.79666656395,\n",
       " 19041401.473637164,\n",
       " -812999.53180563077,\n",
       " -118417356.60317244,\n",
       " -5395263.8028721875,\n",
       " -1686363.122214776,\n",
       " 5863135.9418260511,\n",
       " -4441275.0692513138,\n",
       " -1734970.4256925683,\n",
       " -11363135.936041759,\n",
       " -3381096.0836841534,\n",
       " -7485382.5957333324,\n",
       " 1466201.1065470269,\n",
       " 44138149.358638123,\n",
       " -5394822.1299760649,\n",
       " -1103510.2261467976,\n",
       " -4750851.2323633637,\n",
       " 17281510.416846167,\n",
       " -114454340.90344688,\n",
       " -1726478.199454275,\n",
       " -17737273.744152222,\n",
       " 5582985.4080503639,\n",
       " -16331591.946434518,\n",
       " 155237.81931461761,\n",
       " -551711.95682673715,\n",
       " -17787723.87786651,\n",
       " -3688791.1534283981,\n",
       " 171767.11392704665,\n",
       " 229139.7773176473,\n",
       " -46620132.532230534,\n",
       " -635581.69769270776,\n",
       " -6205785.4631939624,\n",
       " -34648756.015350252,\n",
       " -1482772.7234030261,\n",
       " -7672257.6144691519,\n",
       " -5507007.0387576241,\n",
       " -12235283.751108306,\n",
       " 11922041.454875723,\n",
       " -5134055.3833804997,\n",
       " -324050093258.60028,\n",
       " 580506.09938817006,\n",
       " 243740.62145676545,\n",
       " 510173.52960881364,\n",
       " 152069.61797573132,\n",
       " -23557265.421937753,\n",
       " 4559014.1414395655,\n",
       " -1473311.2844949595,\n",
       " 171767.11392704665,\n",
       " 119577.19240291866,\n",
       " -130731369205293.53,\n",
       " -4206960.4479980571,\n",
       " -361918.22167799319,\n",
       " 241973.77395662066,\n",
       " -674053.20637269772,\n",
       " 157699.62247788982,\n",
       " 191495.85664630056,\n",
       " -25823132.152317055,\n",
       " -8767382.501728747,\n",
       " 5771725.2683912916,\n",
       " 61023.498692779307,\n",
       " 2909950.9049066999,\n",
       " 249702.18675999466,\n",
       " -130731369436335.94,\n",
       " -16319174.228542382,\n",
       " 570670.35920376983,\n",
       " -677788.18668301543,\n",
       " 8355054.4641666748,\n",
       " -5766090.9029066209,\n",
       " 3659786.8424824756,\n",
       " 524240.28143066476,\n",
       " -1149204.4159463053,\n",
       " 149788.24642744561,\n",
       " 661100.90880342689,\n",
       " -4215164.1982721752,\n",
       " -80949841.54140462,\n",
       " -6232385.4074556213,\n",
       " -4079135.0376981185,\n",
       " 3353792.3579094652,\n",
       " 354600.19036762987,\n",
       " -29702671.725477852,\n",
       " 14347.733043721928,\n",
       " -102086017.61414464,\n",
       " 2573266.3533085599,\n",
       " -11478589.117665347,\n",
       " -43198012.664492108,\n",
       " -802963891.91710246,\n",
       " -6667185.5548835397,\n",
       " -25227655.749084622,\n",
       " 10376095.951250186,\n",
       " -801510497.01812744,\n",
       " -1015423.8984483854,\n",
       " -1732877.9065990134,\n",
       " 3110352.2267845739,\n",
       " 59112.397892362496,\n",
       " -3364807.6643680939,\n",
       " 4112373.2654713625,\n",
       " 159867.43124738644,\n",
       " -4450370.0304177981,\n",
       " -4759650.580245208,\n",
       " -12325430.653736359,\n",
       " -1424153.1877581773,\n",
       " -9586895.6112646647,\n",
       " -23206467.135266338,\n",
       " -27589702.871892307,\n",
       " -555092.59499801614,\n",
       " -3688606.3027228643,\n",
       " -9578056.3063182123,\n",
       " 42951.601059287575,\n",
       " -7158375.1864533741,\n",
       " -66586766.401774161,\n",
       " -11802178.389906485,\n",
       " -5685356.8206221564,\n",
       " -457061.97962792055,\n",
       " 6890932.9769479111,\n",
       " -29102214.814574935,\n",
       " 68050803.711228698,\n",
       " -13587871.635160571,\n",
       " 15590.186034049975,\n",
       " -1395669.187853178,\n",
       " -1845402.5322704311,\n",
       " 36368.662421286732,\n",
       " -14779156.222275365,\n",
       " -3962255.5793477804,\n",
       " 8037137.1455570245,\n",
       " 559085.99996176339]"
      ]
     },
     "execution_count": 114,
     "metadata": {},
     "output_type": "execute_result"
    }
   ],
   "source": [
    "final[0].predict(x_test)"
   ]
  },
  {
   "cell_type": "code",
   "execution_count": 115,
   "metadata": {
    "collapsed": false
   },
   "outputs": [
    {
     "data": {
      "text/plain": [
       "0.7762237762237763"
      ]
     },
     "execution_count": 115,
     "metadata": {},
     "output_type": "execute_result"
    }
   ],
   "source": [
    "y_pred = final[0].predict(x_test)\n",
    "correct = 0\n",
    "incorrect = 0\n",
    "for y1, yp1 in zip(y_test, y_pred):\n",
    "    if (yp1 >= 0 and y1 >= .5) or (yp1 < 0 and y1 < .5):\n",
    "        correct += 1\n",
    "    else:\n",
    "        incorrect += 1\n",
    "(correct+0.0)/(correct+incorrect+0.0)"
   ]
  },
  {
   "cell_type": "code",
   "execution_count": null,
   "metadata": {
    "collapsed": true
   },
   "outputs": [],
   "source": []
  }
 ],
 "metadata": {
  "anaconda-cloud": {},
  "kernelspec": {
   "display_name": "Python [default]",
   "language": "python",
   "name": "python3"
  },
  "language_info": {
   "codemirror_mode": {
    "name": "ipython",
    "version": 3
   },
   "file_extension": ".py",
   "mimetype": "text/x-python",
   "name": "python",
   "nbconvert_exporter": "python",
   "pygments_lexer": "ipython3",
   "version": "3.5.2"
  }
 },
 "nbformat": 4,
 "nbformat_minor": 1
}
